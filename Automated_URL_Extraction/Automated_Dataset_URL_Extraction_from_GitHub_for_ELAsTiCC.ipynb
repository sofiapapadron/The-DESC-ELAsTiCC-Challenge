{
  "nbformat": 4,
  "nbformat_minor": 0,
  "metadata": {
    "colab": {
      "provenance": [],
      "authorship_tag": "ABX9TyPggb2+EEXhNWk7fN2KQaKk",
      "include_colab_link": true
    },
    "kernelspec": {
      "name": "python3",
      "display_name": "Python 3"
    },
    "language_info": {
      "name": "python"
    }
  },
  "cells": [
    {
      "cell_type": "markdown",
      "metadata": {
        "id": "view-in-github",
        "colab_type": "text"
      },
      "source": [
        "<a href=\"https://colab.research.google.com/github/sofiapapadron/The-DESC-ELAsTiCC-Challenge/blob/main/Automated_URL_Extraction/Automated_Dataset_URL_Extraction_from_GitHub_for_ELAsTiCC.ipynb\" target=\"_parent\"><img src=\"https://colab.research.google.com/assets/colab-badge.svg\" alt=\"Open In Colab\"/></a>"
      ]
    },
    {
      "cell_type": "markdown",
      "metadata": {
        "id": "VP2uR5Ix1GDt"
      },
      "source": [
        "#**The DESC ELAsTiCC Challenge**"
      ]
    },
    {
      "cell_type": "markdown",
      "metadata": {
        "id": "Nt6Nfwj8UXFd"
      },
      "source": [
        "# **0. Entendiemiento del negocio**"
      ]
    },
    {
      "cell_type": "markdown",
      "metadata": {
        "id": "-3vsOrDyUahu"
      },
      "source": [
        "About ELAsTiCC\n",
        "\n",
        "The purpose of ELAsTiCC (\"Extended LSST Astronomical Time-series Classification Challenge\") is to spur the creation and testing of an end-to-end real-time pipeline for time-domain science. The challenge starts with a simulation of ~5 million detected events that includes ~50 million alerts. These alerts will be streamed from LSST to brokers, who will classify the events and send new alerts with classifications back to DESC. A talk about ELAsTiCC given at the LSSTC Enabling Science Broker Workshop in 2021 can be found on YouTube. Two posters on ELAsTiCC given at conferences can be found below on this page.\n",
        "\n",
        "For discussion or questions about the challenge, use the #elasticc-comms channel on the DESC Slack.\n",
        "\n",
        "The first ELAsTiCC campaign ran from September 2022 until early January 2023. Metrics and diagnostics from that campaign can be found on the ELAsTiCC page of the DESC TOM (login required).\n",
        "\n",
        "The Second ELAsTiCC campaign (dubbed ELAsTiCC2) ran from mid-November to mid-December 2023, streaing alerts at ~3× the rate of the first campaign. Diagnostics and some metrics from that campaign can be found on the ELAsTiCC2 page of the DESC TOM (login required).\n",
        "\n",
        "There is a new github repository for ELAsTiCC-related code and information: LSSTDESC/elasticc.\n",
        "\n"
      ]
    },
    {
      "cell_type": "markdown",
      "source": [
        "**--> En este notebook trabajaremos la carga de los datasets desde el archivo all_links generado en el notebook Automated_URL_Extraction_for_ELAsTiCC_Datasets, accederemos a cada subdirectorio y se generará de un archivo .txt por cada subdirectorio**"
      ],
      "metadata": {
        "id": "vBCzfpfTNU9f"
      }
    },
    {
      "cell_type": "markdown",
      "metadata": {
        "id": "cTtrbgZCCdsz"
      },
      "source": [
        "#**1. Importar librerias**\n"
      ]
    },
    {
      "cell_type": "code",
      "source": [
        "pip install requests beautifulsoup4\n"
      ],
      "metadata": {
        "colab": {
          "base_uri": "https://localhost:8080/"
        },
        "id": "xpyP-QVKN_Zo",
        "outputId": "b5177803-be1a-45a4-d7be-ffd12c13f8d6"
      },
      "execution_count": 9,
      "outputs": [
        {
          "output_type": "stream",
          "name": "stdout",
          "text": [
            "Requirement already satisfied: requests in /usr/local/lib/python3.10/dist-packages (2.32.3)\n",
            "Requirement already satisfied: beautifulsoup4 in /usr/local/lib/python3.10/dist-packages (4.12.3)\n",
            "Requirement already satisfied: charset-normalizer<4,>=2 in /usr/local/lib/python3.10/dist-packages (from requests) (3.3.2)\n",
            "Requirement already satisfied: idna<4,>=2.5 in /usr/local/lib/python3.10/dist-packages (from requests) (3.8)\n",
            "Requirement already satisfied: urllib3<3,>=1.21.1 in /usr/local/lib/python3.10/dist-packages (from requests) (2.0.7)\n",
            "Requirement already satisfied: certifi>=2017.4.17 in /usr/local/lib/python3.10/dist-packages (from requests) (2024.7.4)\n",
            "Requirement already satisfied: soupsieve>1.2 in /usr/local/lib/python3.10/dist-packages (from beautifulsoup4) (2.6)\n"
          ]
        }
      ]
    },
    {
      "cell_type": "code",
      "source": [
        "import requests\n",
        "from bs4 import BeautifulSoup\n",
        "import os\n",
        "import shutil"
      ],
      "metadata": {
        "id": "lZ2CnpdPOBdX"
      },
      "execution_count": 10,
      "outputs": []
    },
    {
      "cell_type": "markdown",
      "metadata": {
        "id": "wBWSbHxTC1qL"
      },
      "source": [
        "# **2. Carga de datos**"
      ]
    },
    {
      "cell_type": "code",
      "source": [
        "# URL del archivo all_links.txt en GitHub (reemplaza con tu URL de GitHub)\n",
        "github_url = \"https://raw.githubusercontent.com/sofiapapadron/The-DESC-ELAsTiCC-Challenge/main/all_links.txt?token=GHSAT0AAAAAACWAYALRMY4U2JJRZMXCNR7GZWSILJA\""
      ],
      "metadata": {
        "id": "uJfX-dZzTS_s"
      },
      "execution_count": 15,
      "outputs": []
    },
    {
      "cell_type": "code",
      "source": [
        "# Realizar una solicitud GET para obtener el contenido del archivo desde GitHub\n",
        "response = requests.get(github_url)\n",
        "\n",
        "if response.status_code == 200:\n",
        "    subdirectory_urls = response.text.splitlines()\n",
        "\n",
        "    # Crear un directorio para guardar los archivos de URLs\n",
        "    os.makedirs('subdirectory_links', exist_ok=True)\n",
        "\n",
        "    for subdir_url in subdirectory_urls:\n",
        "        subdir_response = requests.get(subdir_url)\n",
        "        subdir_soup = BeautifulSoup(subdir_response.text, 'html.parser')\n",
        "\n",
        "        urls = []\n",
        "        for link in subdir_soup.find_all('a'):\n",
        "            href = link.get('href')\n",
        "            if href and href.endswith('.FITS.gz'):\n",
        "                file_url = subdir_url + href\n",
        "                urls.append(file_url)\n",
        "\n",
        "        subdir_name = subdir_url.rstrip('/').split('/')[-1]\n",
        "        txt_filename = f\"subdirectory_links/{subdir_name}.txt\"\n",
        "\n",
        "        with open(txt_filename, 'w') as file:\n",
        "            for url in urls:\n",
        "                file.write(url + '\\n')\n",
        "\n",
        "        print(f\"Archivo '{txt_filename}' creado con éxito con todas las URLs de {subdir_name}.\")\n",
        "\n",
        "    # Comprimir la carpeta subdirectory_links en un archivo .zip\n",
        "    zip_filename = 'subdirectory_links.zip'\n",
        "    shutil.make_archive('subdirectory_links', 'zip', 'subdirectory_links')\n",
        "    print(f\"Carpeta comprimida en '{zip_filename}' con éxito.\")\n",
        "else:\n",
        "    print(\"Error al leer el archivo desde GitHub:\", response.status_code)\n"
      ],
      "metadata": {
        "colab": {
          "base_uri": "https://localhost:8080/"
        },
        "id": "hGiPTCWFTc4c",
        "outputId": "193d2d73-d354-417a-9128-947be3e0cea3"
      },
      "execution_count": 16,
      "outputs": [
        {
          "output_type": "stream",
          "name": "stdout",
          "text": [
            "Archivo 'subdirectory_links/ELASTICC_TRAIN_AGN.txt' creado con éxito con todas las URLs de ELASTICC_TRAIN_AGN.\n",
            "Archivo 'subdirectory_links/ELASTICC_TRAIN_CART.txt' creado con éxito con todas las URLs de ELASTICC_TRAIN_CART.\n",
            "Archivo 'subdirectory_links/ELASTICC_TRAIN_Cepheid.txt' creado con éxito con todas las URLs de ELASTICC_TRAIN_Cepheid.\n",
            "Archivo 'subdirectory_links/ELASTICC_TRAIN_EB.txt' creado con éxito con todas las URLs de ELASTICC_TRAIN_EB.\n",
            "Archivo 'subdirectory_links/ELASTICC_TRAIN_ILOT.txt' creado con éxito con todas las URLs de ELASTICC_TRAIN_ILOT.\n",
            "Archivo 'subdirectory_links/ELASTICC_TRAIN_KN_B19.txt' creado con éxito con todas las URLs de ELASTICC_TRAIN_KN_B19.\n",
            "Archivo 'subdirectory_links/ELASTICC_TRAIN_KN_K17.txt' creado con éxito con todas las URLs de ELASTICC_TRAIN_KN_K17.\n",
            "Archivo 'subdirectory_links/ELASTICC_TRAIN_Mdwarf-flare.txt' creado con éxito con todas las URLs de ELASTICC_TRAIN_Mdwarf-flare.\n",
            "Archivo 'subdirectory_links/ELASTICC_TRAIN_PISN.txt' creado con éxito con todas las URLs de ELASTICC_TRAIN_PISN.\n",
            "Archivo 'subdirectory_links/ELASTICC_TRAIN_RRL.txt' creado con éxito con todas las URLs de ELASTICC_TRAIN_RRL.\n",
            "Archivo 'subdirectory_links/ELASTICC_TRAIN_SLSN-I+host.txt' creado con éxito con todas las URLs de ELASTICC_TRAIN_SLSN-I+host.\n",
            "Archivo 'subdirectory_links/ELASTICC_TRAIN_SLSN-I_no_host.txt' creado con éxito con todas las URLs de ELASTICC_TRAIN_SLSN-I_no_host.\n",
            "Archivo 'subdirectory_links/ELASTICC_TRAIN_SNII+HostXT_V19.txt' creado con éxito con todas las URLs de ELASTICC_TRAIN_SNII+HostXT_V19.\n",
            "Archivo 'subdirectory_links/ELASTICC_TRAIN_SNII-NMF.txt' creado con éxito con todas las URLs de ELASTICC_TRAIN_SNII-NMF.\n",
            "Archivo 'subdirectory_links/ELASTICC_TRAIN_SNII-Templates.txt' creado con éxito con todas las URLs de ELASTICC_TRAIN_SNII-Templates.\n",
            "Archivo 'subdirectory_links/ELASTICC_TRAIN_SNIIb+HostXT_V19.txt' creado con éxito con todas las URLs de ELASTICC_TRAIN_SNIIb+HostXT_V19.\n",
            "Archivo 'subdirectory_links/ELASTICC_TRAIN_SNIIn+HostXT_V19.txt' creado con éxito con todas las URLs de ELASTICC_TRAIN_SNIIn+HostXT_V19.\n",
            "Archivo 'subdirectory_links/ELASTICC_TRAIN_SNIIn-MOSFIT.txt' creado con éxito con todas las URLs de ELASTICC_TRAIN_SNIIn-MOSFIT.\n",
            "Archivo 'subdirectory_links/ELASTICC_TRAIN_SNIa-91bg.txt' creado con éxito con todas las URLs de ELASTICC_TRAIN_SNIa-91bg.\n",
            "Archivo 'subdirectory_links/ELASTICC_TRAIN_SNIa-SALT2.txt' creado con éxito con todas las URLs de ELASTICC_TRAIN_SNIa-SALT2.\n",
            "Archivo 'subdirectory_links/ELASTICC_TRAIN_SNIax.txt' creado con éxito con todas las URLs de ELASTICC_TRAIN_SNIax.\n",
            "Archivo 'subdirectory_links/ELASTICC_TRAIN_SNIb+HostXT_V19.txt' creado con éxito con todas las URLs de ELASTICC_TRAIN_SNIb+HostXT_V19.\n",
            "Archivo 'subdirectory_links/ELASTICC_TRAIN_SNIb-Templates.txt' creado con éxito con todas las URLs de ELASTICC_TRAIN_SNIb-Templates.\n",
            "Archivo 'subdirectory_links/ELASTICC_TRAIN_SNIc+HostXT_V19.txt' creado con éxito con todas las URLs de ELASTICC_TRAIN_SNIc+HostXT_V19.\n",
            "Archivo 'subdirectory_links/ELASTICC_TRAIN_SNIc-Templates.txt' creado con éxito con todas las URLs de ELASTICC_TRAIN_SNIc-Templates.\n",
            "Archivo 'subdirectory_links/ELASTICC_TRAIN_SNIcBL+HostXT_V19.txt' creado con éxito con todas las URLs de ELASTICC_TRAIN_SNIcBL+HostXT_V19.\n",
            "Archivo 'subdirectory_links/ELASTICC_TRAIN_TDE.txt' creado con éxito con todas las URLs de ELASTICC_TRAIN_TDE.\n",
            "Archivo 'subdirectory_links/ELASTICC_TRAIN_d-Sct.txt' creado con éxito con todas las URLs de ELASTICC_TRAIN_d-Sct.\n",
            "Archivo 'subdirectory_links/ELASTICC_TRAIN_dwarf-nova.txt' creado con éxito con todas las URLs de ELASTICC_TRAIN_dwarf-nova.\n",
            "Archivo 'subdirectory_links/ELASTICC_TRAIN_uLens-Binary.txt' creado con éxito con todas las URLs de ELASTICC_TRAIN_uLens-Binary.\n",
            "Archivo 'subdirectory_links/ELASTICC_TRAIN_uLens-Single-GenLens.txt' creado con éxito con todas las URLs de ELASTICC_TRAIN_uLens-Single-GenLens.\n",
            "Archivo 'subdirectory_links/ELASTICC_TRAIN_uLens-Single_PyLIMA.txt' creado con éxito con todas las URLs de ELASTICC_TRAIN_uLens-Single_PyLIMA.\n",
            "Carpeta comprimida en 'subdirectory_links.zip' con éxito.\n"
          ]
        }
      ]
    },
    {
      "cell_type": "markdown",
      "source": [
        "Después de esta extracción, el archivo subdirectory_links.zip se limpió, es decir, se eliminaron links no relevantes y no pertenecientes al contexto del challenge."
      ],
      "metadata": {
        "id": "QZUVyjg1R0Ft"
      }
    }
  ]
}