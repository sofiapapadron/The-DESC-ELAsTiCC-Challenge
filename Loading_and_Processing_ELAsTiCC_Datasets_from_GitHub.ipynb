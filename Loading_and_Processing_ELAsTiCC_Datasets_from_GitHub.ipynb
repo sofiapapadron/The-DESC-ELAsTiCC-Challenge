{
  "cells": [
    {
      "cell_type": "markdown",
      "metadata": {
        "id": "view-in-github",
        "colab_type": "text"
      },
      "source": [
        "<a href=\"https://colab.research.google.com/github/sofiapapadron/The-DESC-ELAsTiCC-Challenge/blob/main/Loading_and_Processing_ELAsTiCC_Datasets_from_GitHub.ipynb\" target=\"_parent\"><img src=\"https://colab.research.google.com/assets/colab-badge.svg\" alt=\"Open In Colab\"/></a>"
      ]
    },
    {
      "cell_type": "markdown",
      "metadata": {
        "id": "VP2uR5Ix1GDt"
      },
      "source": [
        "#**The DESC ELAsTiCC Challenge**"
      ]
    },
    {
      "cell_type": "markdown",
      "metadata": {
        "id": "Nt6Nfwj8UXFd"
      },
      "source": [
        "# **0. Entendiemiento del negocio**"
      ]
    },
    {
      "cell_type": "markdown",
      "metadata": {
        "id": "-3vsOrDyUahu"
      },
      "source": [
        "About ELAsTiCC\n",
        "\n",
        "The purpose of ELAsTiCC (\"Extended LSST Astronomical Time-series Classification Challenge\") is to spur the creation and testing of an end-to-end real-time pipeline for time-domain science. The challenge starts with a simulation of ~5 million detected events that includes ~50 million alerts. These alerts will be streamed from LSST to brokers, who will classify the events and send new alerts with classifications back to DESC. A talk about ELAsTiCC given at the LSSTC Enabling Science Broker Workshop in 2021 can be found on YouTube. Two posters on ELAsTiCC given at conferences can be found below on this page.\n",
        "\n",
        "For discussion or questions about the challenge, use the #elasticc-comms channel on the DESC Slack.\n",
        "\n",
        "The first ELAsTiCC campaign ran from September 2022 until early January 2023. Metrics and diagnostics from that campaign can be found on the ELAsTiCC page of the DESC TOM (login required).\n",
        "\n",
        "The Second ELAsTiCC campaign (dubbed ELAsTiCC2) ran from mid-November to mid-December 2023, streaing alerts at ~3× the rate of the first campaign. Diagnostics and some metrics from that campaign can be found on the ELAsTiCC2 page of the DESC TOM (login required).\n",
        "\n",
        "There is a new github repository for ELAsTiCC-related code and information: LSSTDESC/elasticc.\n",
        "\n"
      ]
    },
    {
      "cell_type": "markdown",
      "metadata": {
        "id": "cTtrbgZCCdsz"
      },
      "source": [
        "#**1. Importar librerias**\n"
      ]
    },
    {
      "cell_type": "code",
      "execution_count": 2,
      "metadata": {
        "colab": {
          "base_uri": "https://localhost:8080/"
        },
        "id": "ZoTmM7cNbd1l",
        "outputId": "ef724541-f905-40b2-b361-bb38b8fd559b"
      },
      "outputs": [
        {
          "output_type": "stream",
          "name": "stdout",
          "text": [
            "Requirement already satisfied: requests in /usr/local/lib/python3.10/dist-packages (2.32.3)\n",
            "Requirement already satisfied: wget in /usr/local/lib/python3.10/dist-packages (3.2)\n",
            "Requirement already satisfied: astropy in /usr/local/lib/python3.10/dist-packages (6.1.3)\n",
            "Requirement already satisfied: pandas in /usr/local/lib/python3.10/dist-packages (2.1.4)\n",
            "Requirement already satisfied: charset-normalizer<4,>=2 in /usr/local/lib/python3.10/dist-packages (from requests) (3.3.2)\n",
            "Requirement already satisfied: idna<4,>=2.5 in /usr/local/lib/python3.10/dist-packages (from requests) (3.8)\n",
            "Requirement already satisfied: urllib3<3,>=1.21.1 in /usr/local/lib/python3.10/dist-packages (from requests) (2.0.7)\n",
            "Requirement already satisfied: certifi>=2017.4.17 in /usr/local/lib/python3.10/dist-packages (from requests) (2024.8.30)\n",
            "Requirement already satisfied: numpy>=1.23 in /usr/local/lib/python3.10/dist-packages (from astropy) (1.26.4)\n",
            "Requirement already satisfied: pyerfa>=2.0.1.1 in /usr/local/lib/python3.10/dist-packages (from astropy) (2.0.1.4)\n",
            "Requirement already satisfied: astropy-iers-data>=0.2024.7.29.0.32.7 in /usr/local/lib/python3.10/dist-packages (from astropy) (0.2024.9.2.0.33.23)\n",
            "Requirement already satisfied: PyYAML>=3.13 in /usr/local/lib/python3.10/dist-packages (from astropy) (6.0.2)\n",
            "Requirement already satisfied: packaging>=19.0 in /usr/local/lib/python3.10/dist-packages (from astropy) (24.1)\n",
            "Requirement already satisfied: python-dateutil>=2.8.2 in /usr/local/lib/python3.10/dist-packages (from pandas) (2.8.2)\n",
            "Requirement already satisfied: pytz>=2020.1 in /usr/local/lib/python3.10/dist-packages (from pandas) (2024.1)\n",
            "Requirement already satisfied: tzdata>=2022.1 in /usr/local/lib/python3.10/dist-packages (from pandas) (2024.1)\n",
            "Requirement already satisfied: six>=1.5 in /usr/local/lib/python3.10/dist-packages (from python-dateutil>=2.8.2->pandas) (1.16.0)\n"
          ]
        }
      ],
      "source": [
        "pip install requests wget astropy pandas\n"
      ]
    },
    {
      "cell_type": "code",
      "execution_count": 3,
      "metadata": {
        "id": "IIvzK1ebbfap"
      },
      "outputs": [],
      "source": [
        "import requests\n",
        "from astropy.table import Table\n",
        "import pandas as pd\n",
        "import os\n",
        "import requests\n",
        "import wget\n",
        "import gzip\n",
        "import shutil\n",
        "from astropy.io import fits\n",
        "import pandas as pd"
      ]
    },
    {
      "cell_type": "markdown",
      "metadata": {
        "id": "wBWSbHxTC1qL"
      },
      "source": [
        "# **2. Carga de datos**"
      ]
    },
    {
      "cell_type": "code",
      "execution_count": 4,
      "metadata": {
        "id": "wrWxj_Dfbvdj"
      },
      "outputs": [],
      "source": [
        "# URL del archivo ELASTICC_TRAIN_AGN.txt en GitHub (reemplaza con tu URL de GitHub)\n",
        "github_url = \"https://raw.githubusercontent.com/sofiapapadron/The-DESC-ELAsTiCC-Challenge/main/Automated_URL_Extraction/subdirectory_links/ELASTICC_TRAIN_AGN.txt?token=GHSAT0AAAAAACWAYALQHD6AS6OMY4IK45OOZXCFDTQ\"\n",
        "\n",
        "# Realizar una solicitud GET para obtener el contenido del archivo desde GitHub\n",
        "response = requests.get(github_url)"
      ]
    },
    {
      "cell_type": "code",
      "execution_count": 8,
      "metadata": {
        "colab": {
          "base_uri": "https://localhost:8080/"
        },
        "id": "ILMQ5BrSC7QQ",
        "outputId": "38fff085-23e3-477a-b8b3-fece0019d6b0"
      },
      "outputs": [
        {
          "output_type": "stream",
          "name": "stdout",
          "text": [
            "Archivos 'AGN_info.csv' y 'AGN_phot.csv' creados con éxito.\n"
          ]
        }
      ],
      "source": [
        "if response.status_code == 200:\n",
        "    # Leer las URLs desde el contenido del archivo en GitHub\n",
        "    urls = response.text.splitlines()\n",
        "\n",
        "    # Crear listas para almacenar los DataFrames de info y phot\n",
        "    info_dfs = []\n",
        "    phot_dfs = []\n",
        "\n",
        "    # Iterar sobre cada URL\n",
        "    for url in urls:\n",
        "        if 'HEAD' in url:\n",
        "            # Leer archivo de encabezado\n",
        "            try:\n",
        "                data = Table.read(url)\n",
        "                df = data.to_pandas()\n",
        "                info_dfs.append(df)\n",
        "            except Exception as e:\n",
        "                print(f\"Error al leer {url}: {e}\")\n",
        "        elif 'PHOT' in url:\n",
        "            # Leer archivo fotométrico\n",
        "            try:\n",
        "                data = Table.read(url)\n",
        "                df = data.to_pandas()\n",
        "                phot_dfs.append(df)\n",
        "            except Exception as e:\n",
        "                print(f\"Error al leer {url}: {e}\")\n",
        "\n",
        "    # Concatenar todos los DataFrames en un solo DataFrame para info y otro para phot\n",
        "    info = pd.concat(info_dfs, ignore_index=True) if info_dfs else pd.DataFrame()\n",
        "    phot = pd.concat(phot_dfs, ignore_index=True) if phot_dfs else pd.DataFrame()\n",
        "\n",
        "    # Guardar los DataFrames en archivos CSV\n",
        "    info.to_csv('AGN_info.csv', index=False)\n",
        "    phot.to_csv('AGN_phot.csv', index=False)\n",
        "\n",
        "    print(\"Archivos 'AGN_info.csv' y 'AGN_phot.csv' creados con éxito.\")\n",
        "\n",
        "else:\n",
        "    print(f\"Error al leer el archivo desde GitHub: {response.status_code}\")\n"
      ]
    },
    {
      "cell_type": "code",
      "source": [
        "\n",
        "# Verificar si la solicitud fue exitosa\n",
        "if response.status_code == 200:\n",
        "    urls = response.text.splitlines()\n",
        "else:\n",
        "    print(f'Error al obtener el archivo desde GitHub: {response.status_code}')\n",
        "    exit()"
      ],
      "metadata": {
        "id": "FdlQF4-SPiZN"
      },
      "execution_count": 5,
      "outputs": []
    },
    {
      "cell_type": "code",
      "source": [
        "# Crear carpeta para almacenar los archivos descargados\n",
        "os.makedirs('fits_files', exist_ok=True)\n",
        "\n",
        "# Descargar los archivos\n",
        "for url in urls:\n",
        "    print(f'Descargando {url}...')\n",
        "    wget.download(url, out='fits_files/')\n",
        "\n",
        "# Descomprimir archivos\n",
        "for file_name in os.listdir('fits_files'):\n",
        "    if file_name.endswith('.gz'):\n",
        "        with gzip.open(f'fits_files/{file_name}', 'rb') as f_in:\n",
        "            with open(f'fits_files/{file_name[:-3]}', 'wb') as f_out:\n",
        "                shutil.copyfileobj(f_in, f_out)\n",
        "\n",
        "print(\"Proceso terminado\")"
      ],
      "metadata": {
        "colab": {
          "base_uri": "https://localhost:8080/"
        },
        "id": "RQEr18PdQVFQ",
        "outputId": "bb8b9e58-9e46-4074-f114-ddc08898e7c3"
      },
      "execution_count": null,
      "outputs": [
        {
          "metadata": {
            "tags": null
          },
          "name": "stdout",
          "output_type": "stream",
          "text": [
            "Descargando https://portal.nersc.gov/cfs/lsst/DESC_TD_PUBLIC/ELASTICC/TRAINING_SAMPLES/ELASTICC_TRAIN_AGN/ELASTICC_TRAIN_NONIaMODEL0-0001_HEAD.FITS.gz...\n",
            "Descargando https://portal.nersc.gov/cfs/lsst/DESC_TD_PUBLIC/ELASTICC/TRAINING_SAMPLES/ELASTICC_TRAIN_AGN/ELASTICC_TRAIN_NONIaMODEL0-0001_PHOT.FITS.gz...\n",
            "Descargando https://portal.nersc.gov/cfs/lsst/DESC_TD_PUBLIC/ELASTICC/TRAINING_SAMPLES/ELASTICC_TRAIN_AGN/ELASTICC_TRAIN_NONIaMODEL0-0002_HEAD.FITS.gz...\n",
            "Descargando https://portal.nersc.gov/cfs/lsst/DESC_TD_PUBLIC/ELASTICC/TRAINING_SAMPLES/ELASTICC_TRAIN_AGN/ELASTICC_TRAIN_NONIaMODEL0-0002_PHOT.FITS.gz...\n",
            "Descargando https://portal.nersc.gov/cfs/lsst/DESC_TD_PUBLIC/ELASTICC/TRAINING_SAMPLES/ELASTICC_TRAIN_AGN/ELASTICC_TRAIN_NONIaMODEL0-0003_HEAD.FITS.gz...\n",
            "Descargando https://portal.nersc.gov/cfs/lsst/DESC_TD_PUBLIC/ELASTICC/TRAINING_SAMPLES/ELASTICC_TRAIN_AGN/ELASTICC_TRAIN_NONIaMODEL0-0003_PHOT.FITS.gz...\n",
            "Descargando https://portal.nersc.gov/cfs/lsst/DESC_TD_PUBLIC/ELASTICC/TRAINING_SAMPLES/ELASTICC_TRAIN_AGN/ELASTICC_TRAIN_NONIaMODEL0-0004_HEAD.FITS.gz...\n",
            "Descargando https://portal.nersc.gov/cfs/lsst/DESC_TD_PUBLIC/ELASTICC/TRAINING_SAMPLES/ELASTICC_TRAIN_AGN/ELASTICC_TRAIN_NONIaMODEL0-0004_PHOT.FITS.gz...\n",
            "Descargando https://portal.nersc.gov/cfs/lsst/DESC_TD_PUBLIC/ELASTICC/TRAINING_SAMPLES/ELASTICC_TRAIN_AGN/ELASTICC_TRAIN_NONIaMODEL0-0005_HEAD.FITS.gz...\n",
            "Descargando https://portal.nersc.gov/cfs/lsst/DESC_TD_PUBLIC/ELASTICC/TRAINING_SAMPLES/ELASTICC_TRAIN_AGN/ELASTICC_TRAIN_NONIaMODEL0-0005_PHOT.FITS.gz...\n",
            "Descargando https://portal.nersc.gov/cfs/lsst/DESC_TD_PUBLIC/ELASTICC/TRAINING_SAMPLES/ELASTICC_TRAIN_AGN/ELASTICC_TRAIN_NONIaMODEL0-0006_HEAD.FITS.gz...\n",
            "Descargando https://portal.nersc.gov/cfs/lsst/DESC_TD_PUBLIC/ELASTICC/TRAINING_SAMPLES/ELASTICC_TRAIN_AGN/ELASTICC_TRAIN_NONIaMODEL0-0006_PHOT.FITS.gz...\n",
            "Descargando https://portal.nersc.gov/cfs/lsst/DESC_TD_PUBLIC/ELASTICC/TRAINING_SAMPLES/ELASTICC_TRAIN_AGN/ELASTICC_TRAIN_NONIaMODEL0-0007_HEAD.FITS.gz...\n",
            "Descargando https://portal.nersc.gov/cfs/lsst/DESC_TD_PUBLIC/ELASTICC/TRAINING_SAMPLES/ELASTICC_TRAIN_AGN/ELASTICC_TRAIN_NONIaMODEL0-0007_PHOT.FITS.gz...\n",
            "Descargando https://portal.nersc.gov/cfs/lsst/DESC_TD_PUBLIC/ELASTICC/TRAINING_SAMPLES/ELASTICC_TRAIN_AGN/ELASTICC_TRAIN_NONIaMODEL0-0008_HEAD.FITS.gz...\n",
            "Descargando https://portal.nersc.gov/cfs/lsst/DESC_TD_PUBLIC/ELASTICC/TRAINING_SAMPLES/ELASTICC_TRAIN_AGN/ELASTICC_TRAIN_NONIaMODEL0-0008_PHOT.FITS.gz...\n",
            "Descargando https://portal.nersc.gov/cfs/lsst/DESC_TD_PUBLIC/ELASTICC/TRAINING_SAMPLES/ELASTICC_TRAIN_AGN/ELASTICC_TRAIN_NONIaMODEL0-0009_HEAD.FITS.gz...\n",
            "Descargando https://portal.nersc.gov/cfs/lsst/DESC_TD_PUBLIC/ELASTICC/TRAINING_SAMPLES/ELASTICC_TRAIN_AGN/ELASTICC_TRAIN_NONIaMODEL0-0009_PHOT.FITS.gz...\n",
            "Descargando https://portal.nersc.gov/cfs/lsst/DESC_TD_PUBLIC/ELASTICC/TRAINING_SAMPLES/ELASTICC_TRAIN_AGN/ELASTICC_TRAIN_NONIaMODEL0-0010_HEAD.FITS.gz...\n",
            "Descargando https://portal.nersc.gov/cfs/lsst/DESC_TD_PUBLIC/ELASTICC/TRAINING_SAMPLES/ELASTICC_TRAIN_AGN/ELASTICC_TRAIN_NONIaMODEL0-0010_PHOT.FITS.gz...\n",
            "Descargando https://portal.nersc.gov/cfs/lsst/DESC_TD_PUBLIC/ELASTICC/TRAINING_SAMPLES/ELASTICC_TRAIN_AGN/ELASTICC_TRAIN_NONIaMODEL0-0011_HEAD.FITS.gz...\n",
            "Descargando https://portal.nersc.gov/cfs/lsst/DESC_TD_PUBLIC/ELASTICC/TRAINING_SAMPLES/ELASTICC_TRAIN_AGN/ELASTICC_TRAIN_NONIaMODEL0-0011_PHOT.FITS.gz...\n",
            "Descargando https://portal.nersc.gov/cfs/lsst/DESC_TD_PUBLIC/ELASTICC/TRAINING_SAMPLES/ELASTICC_TRAIN_AGN/ELASTICC_TRAIN_NONIaMODEL0-0012_HEAD.FITS.gz...\n",
            "Descargando https://portal.nersc.gov/cfs/lsst/DESC_TD_PUBLIC/ELASTICC/TRAINING_SAMPLES/ELASTICC_TRAIN_AGN/ELASTICC_TRAIN_NONIaMODEL0-0012_PHOT.FITS.gz...\n",
            "Descargando https://portal.nersc.gov/cfs/lsst/DESC_TD_PUBLIC/ELASTICC/TRAINING_SAMPLES/ELASTICC_TRAIN_AGN/ELASTICC_TRAIN_NONIaMODEL0-0013_HEAD.FITS.gz...\n",
            "Descargando https://portal.nersc.gov/cfs/lsst/DESC_TD_PUBLIC/ELASTICC/TRAINING_SAMPLES/ELASTICC_TRAIN_AGN/ELASTICC_TRAIN_NONIaMODEL0-0013_PHOT.FITS.gz...\n",
            "Descargando https://portal.nersc.gov/cfs/lsst/DESC_TD_PUBLIC/ELASTICC/TRAINING_SAMPLES/ELASTICC_TRAIN_AGN/ELASTICC_TRAIN_NONIaMODEL0-0014_HEAD.FITS.gz...\n",
            "Descargando https://portal.nersc.gov/cfs/lsst/DESC_TD_PUBLIC/ELASTICC/TRAINING_SAMPLES/ELASTICC_TRAIN_AGN/ELASTICC_TRAIN_NONIaMODEL0-0014_PHOT.FITS.gz...\n",
            "Descargando https://portal.nersc.gov/cfs/lsst/DESC_TD_PUBLIC/ELASTICC/TRAINING_SAMPLES/ELASTICC_TRAIN_AGN/ELASTICC_TRAIN_NONIaMODEL0-0015_HEAD.FITS.gz...\n",
            "Descargando https://portal.nersc.gov/cfs/lsst/DESC_TD_PUBLIC/ELASTICC/TRAINING_SAMPLES/ELASTICC_TRAIN_AGN/ELASTICC_TRAIN_NONIaMODEL0-0015_PHOT.FITS.gz...\n",
            "Descargando https://portal.nersc.gov/cfs/lsst/DESC_TD_PUBLIC/ELASTICC/TRAINING_SAMPLES/ELASTICC_TRAIN_AGN/ELASTICC_TRAIN_NONIaMODEL0-0016_HEAD.FITS.gz...\n",
            "Descargando https://portal.nersc.gov/cfs/lsst/DESC_TD_PUBLIC/ELASTICC/TRAINING_SAMPLES/ELASTICC_TRAIN_AGN/ELASTICC_TRAIN_NONIaMODEL0-0016_PHOT.FITS.gz...\n",
            "Descargando https://portal.nersc.gov/cfs/lsst/DESC_TD_PUBLIC/ELASTICC/TRAINING_SAMPLES/ELASTICC_TRAIN_AGN/ELASTICC_TRAIN_NONIaMODEL0-0017_HEAD.FITS.gz...\n",
            "Descargando https://portal.nersc.gov/cfs/lsst/DESC_TD_PUBLIC/ELASTICC/TRAINING_SAMPLES/ELASTICC_TRAIN_AGN/ELASTICC_TRAIN_NONIaMODEL0-0017_PHOT.FITS.gz...\n",
            "Descargando https://portal.nersc.gov/cfs/lsst/DESC_TD_PUBLIC/ELASTICC/TRAINING_SAMPLES/ELASTICC_TRAIN_AGN/ELASTICC_TRAIN_NONIaMODEL0-0018_HEAD.FITS.gz...\n",
            "Descargando https://portal.nersc.gov/cfs/lsst/DESC_TD_PUBLIC/ELASTICC/TRAINING_SAMPLES/ELASTICC_TRAIN_AGN/ELASTICC_TRAIN_NONIaMODEL0-0018_PHOT.FITS.gz...\n",
            "Descargando https://portal.nersc.gov/cfs/lsst/DESC_TD_PUBLIC/ELASTICC/TRAINING_SAMPLES/ELASTICC_TRAIN_AGN/ELASTICC_TRAIN_NONIaMODEL0-0019_HEAD.FITS.gz...\n",
            "Descargando https://portal.nersc.gov/cfs/lsst/DESC_TD_PUBLIC/ELASTICC/TRAINING_SAMPLES/ELASTICC_TRAIN_AGN/ELASTICC_TRAIN_NONIaMODEL0-0019_PHOT.FITS.gz...\n",
            "Descargando https://portal.nersc.gov/cfs/lsst/DESC_TD_PUBLIC/ELASTICC/TRAINING_SAMPLES/ELASTICC_TRAIN_AGN/ELASTICC_TRAIN_NONIaMODEL0-0020_HEAD.FITS.gz...\n",
            "Descargando https://portal.nersc.gov/cfs/lsst/DESC_TD_PUBLIC/ELASTICC/TRAINING_SAMPLES/ELASTICC_TRAIN_AGN/ELASTICC_TRAIN_NONIaMODEL0-0020_PHOT.FITS.gz...\n",
            "Descargando https://portal.nersc.gov/cfs/lsst/DESC_TD_PUBLIC/ELASTICC/TRAINING_SAMPLES/ELASTICC_TRAIN_AGN/ELASTICC_TRAIN_NONIaMODEL0-0021_HEAD.FITS.gz...\n",
            "Descargando https://portal.nersc.gov/cfs/lsst/DESC_TD_PUBLIC/ELASTICC/TRAINING_SAMPLES/ELASTICC_TRAIN_AGN/ELASTICC_TRAIN_NONIaMODEL0-0021_PHOT.FITS.gz...\n",
            "Descargando https://portal.nersc.gov/cfs/lsst/DESC_TD_PUBLIC/ELASTICC/TRAINING_SAMPLES/ELASTICC_TRAIN_AGN/ELASTICC_TRAIN_NONIaMODEL0-0022_HEAD.FITS.gz...\n",
            "Descargando https://portal.nersc.gov/cfs/lsst/DESC_TD_PUBLIC/ELASTICC/TRAINING_SAMPLES/ELASTICC_TRAIN_AGN/ELASTICC_TRAIN_NONIaMODEL0-0022_PHOT.FITS.gz...\n",
            "Descargando https://portal.nersc.gov/cfs/lsst/DESC_TD_PUBLIC/ELASTICC/TRAINING_SAMPLES/ELASTICC_TRAIN_AGN/ELASTICC_TRAIN_NONIaMODEL0-0023_HEAD.FITS.gz...\n",
            "Descargando https://portal.nersc.gov/cfs/lsst/DESC_TD_PUBLIC/ELASTICC/TRAINING_SAMPLES/ELASTICC_TRAIN_AGN/ELASTICC_TRAIN_NONIaMODEL0-0023_PHOT.FITS.gz...\n",
            "Descargando https://portal.nersc.gov/cfs/lsst/DESC_TD_PUBLIC/ELASTICC/TRAINING_SAMPLES/ELASTICC_TRAIN_AGN/ELASTICC_TRAIN_NONIaMODEL0-0024_HEAD.FITS.gz...\n",
            "Descargando https://portal.nersc.gov/cfs/lsst/DESC_TD_PUBLIC/ELASTICC/TRAINING_SAMPLES/ELASTICC_TRAIN_AGN/ELASTICC_TRAIN_NONIaMODEL0-0024_PHOT.FITS.gz...\n",
            "Descargando https://portal.nersc.gov/cfs/lsst/DESC_TD_PUBLIC/ELASTICC/TRAINING_SAMPLES/ELASTICC_TRAIN_AGN/ELASTICC_TRAIN_NONIaMODEL0-0025_HEAD.FITS.gz...\n",
            "Descargando https://portal.nersc.gov/cfs/lsst/DESC_TD_PUBLIC/ELASTICC/TRAINING_SAMPLES/ELASTICC_TRAIN_AGN/ELASTICC_TRAIN_NONIaMODEL0-0025_PHOT.FITS.gz...\n",
            "Descargando https://portal.nersc.gov/cfs/lsst/DESC_TD_PUBLIC/ELASTICC/TRAINING_SAMPLES/ELASTICC_TRAIN_AGN/ELASTICC_TRAIN_NONIaMODEL0-0026_HEAD.FITS.gz...\n",
            "Descargando https://portal.nersc.gov/cfs/lsst/DESC_TD_PUBLIC/ELASTICC/TRAINING_SAMPLES/ELASTICC_TRAIN_AGN/ELASTICC_TRAIN_NONIaMODEL0-0026_PHOT.FITS.gz...\n",
            "Descargando https://portal.nersc.gov/cfs/lsst/DESC_TD_PUBLIC/ELASTICC/TRAINING_SAMPLES/ELASTICC_TRAIN_AGN/ELASTICC_TRAIN_NONIaMODEL0-0027_HEAD.FITS.gz...\n",
            "Descargando https://portal.nersc.gov/cfs/lsst/DESC_TD_PUBLIC/ELASTICC/TRAINING_SAMPLES/ELASTICC_TRAIN_AGN/ELASTICC_TRAIN_NONIaMODEL0-0027_PHOT.FITS.gz...\n",
            "Descargando https://portal.nersc.gov/cfs/lsst/DESC_TD_PUBLIC/ELASTICC/TRAINING_SAMPLES/ELASTICC_TRAIN_AGN/ELASTICC_TRAIN_NONIaMODEL0-0028_HEAD.FITS.gz...\n",
            "Descargando https://portal.nersc.gov/cfs/lsst/DESC_TD_PUBLIC/ELASTICC/TRAINING_SAMPLES/ELASTICC_TRAIN_AGN/ELASTICC_TRAIN_NONIaMODEL0-0028_PHOT.FITS.gz...\n",
            "Descargando https://portal.nersc.gov/cfs/lsst/DESC_TD_PUBLIC/ELASTICC/TRAINING_SAMPLES/ELASTICC_TRAIN_AGN/ELASTICC_TRAIN_NONIaMODEL0-0029_HEAD.FITS.gz...\n",
            "Descargando https://portal.nersc.gov/cfs/lsst/DESC_TD_PUBLIC/ELASTICC/TRAINING_SAMPLES/ELASTICC_TRAIN_AGN/ELASTICC_TRAIN_NONIaMODEL0-0029_PHOT.FITS.gz...\n",
            "Descargando https://portal.nersc.gov/cfs/lsst/DESC_TD_PUBLIC/ELASTICC/TRAINING_SAMPLES/ELASTICC_TRAIN_AGN/ELASTICC_TRAIN_NONIaMODEL0-0030_HEAD.FITS.gz...\n",
            "Descargando https://portal.nersc.gov/cfs/lsst/DESC_TD_PUBLIC/ELASTICC/TRAINING_SAMPLES/ELASTICC_TRAIN_AGN/ELASTICC_TRAIN_NONIaMODEL0-0030_PHOT.FITS.gz...\n",
            "Descargando https://portal.nersc.gov/cfs/lsst/DESC_TD_PUBLIC/ELASTICC/TRAINING_SAMPLES/ELASTICC_TRAIN_AGN/ELASTICC_TRAIN_NONIaMODEL0-0031_HEAD.FITS.gz...\n",
            "Descargando https://portal.nersc.gov/cfs/lsst/DESC_TD_PUBLIC/ELASTICC/TRAINING_SAMPLES/ELASTICC_TRAIN_AGN/ELASTICC_TRAIN_NONIaMODEL0-0031_PHOT.FITS.gz...\n",
            "Descargando https://portal.nersc.gov/cfs/lsst/DESC_TD_PUBLIC/ELASTICC/TRAINING_SAMPLES/ELASTICC_TRAIN_AGN/ELASTICC_TRAIN_NONIaMODEL0-0032_HEAD.FITS.gz...\n",
            "Descargando https://portal.nersc.gov/cfs/lsst/DESC_TD_PUBLIC/ELASTICC/TRAINING_SAMPLES/ELASTICC_TRAIN_AGN/ELASTICC_TRAIN_NONIaMODEL0-0032_PHOT.FITS.gz...\n",
            "Descargando https://portal.nersc.gov/cfs/lsst/DESC_TD_PUBLIC/ELASTICC/TRAINING_SAMPLES/ELASTICC_TRAIN_AGN/ELASTICC_TRAIN_NONIaMODEL0-0033_HEAD.FITS.gz...\n",
            "Descargando https://portal.nersc.gov/cfs/lsst/DESC_TD_PUBLIC/ELASTICC/TRAINING_SAMPLES/ELASTICC_TRAIN_AGN/ELASTICC_TRAIN_NONIaMODEL0-0033_PHOT.FITS.gz...\n",
            "Descargando https://portal.nersc.gov/cfs/lsst/DESC_TD_PUBLIC/ELASTICC/TRAINING_SAMPLES/ELASTICC_TRAIN_AGN/ELASTICC_TRAIN_NONIaMODEL0-0034_HEAD.FITS.gz...\n",
            "Descargando https://portal.nersc.gov/cfs/lsst/DESC_TD_PUBLIC/ELASTICC/TRAINING_SAMPLES/ELASTICC_TRAIN_AGN/ELASTICC_TRAIN_NONIaMODEL0-0034_PHOT.FITS.gz...\n",
            "Descargando https://portal.nersc.gov/cfs/lsst/DESC_TD_PUBLIC/ELASTICC/TRAINING_SAMPLES/ELASTICC_TRAIN_AGN/ELASTICC_TRAIN_NONIaMODEL0-0035_HEAD.FITS.gz...\n",
            "Descargando https://portal.nersc.gov/cfs/lsst/DESC_TD_PUBLIC/ELASTICC/TRAINING_SAMPLES/ELASTICC_TRAIN_AGN/ELASTICC_TRAIN_NONIaMODEL0-0035_PHOT.FITS.gz...\n",
            "Descargando https://portal.nersc.gov/cfs/lsst/DESC_TD_PUBLIC/ELASTICC/TRAINING_SAMPLES/ELASTICC_TRAIN_AGN/ELASTICC_TRAIN_NONIaMODEL0-0036_HEAD.FITS.gz...\n",
            "Descargando https://portal.nersc.gov/cfs/lsst/DESC_TD_PUBLIC/ELASTICC/TRAINING_SAMPLES/ELASTICC_TRAIN_AGN/ELASTICC_TRAIN_NONIaMODEL0-0036_PHOT.FITS.gz...\n",
            "Descargando https://portal.nersc.gov/cfs/lsst/DESC_TD_PUBLIC/ELASTICC/TRAINING_SAMPLES/ELASTICC_TRAIN_AGN/ELASTICC_TRAIN_NONIaMODEL0-0037_HEAD.FITS.gz...\n",
            "Descargando https://portal.nersc.gov/cfs/lsst/DESC_TD_PUBLIC/ELASTICC/TRAINING_SAMPLES/ELASTICC_TRAIN_AGN/ELASTICC_TRAIN_NONIaMODEL0-0037_PHOT.FITS.gz...\n",
            "Descargando https://portal.nersc.gov/cfs/lsst/DESC_TD_PUBLIC/ELASTICC/TRAINING_SAMPLES/ELASTICC_TRAIN_AGN/ELASTICC_TRAIN_NONIaMODEL0-0038_HEAD.FITS.gz...\n",
            "Descargando https://portal.nersc.gov/cfs/lsst/DESC_TD_PUBLIC/ELASTICC/TRAINING_SAMPLES/ELASTICC_TRAIN_AGN/ELASTICC_TRAIN_NONIaMODEL0-0038_PHOT.FITS.gz...\n",
            "Descargando https://portal.nersc.gov/cfs/lsst/DESC_TD_PUBLIC/ELASTICC/TRAINING_SAMPLES/ELASTICC_TRAIN_AGN/ELASTICC_TRAIN_NONIaMODEL0-0039_HEAD.FITS.gz...\n",
            "Descargando https://portal.nersc.gov/cfs/lsst/DESC_TD_PUBLIC/ELASTICC/TRAINING_SAMPLES/ELASTICC_TRAIN_AGN/ELASTICC_TRAIN_NONIaMODEL0-0039_PHOT.FITS.gz...\n",
            "Descargando https://portal.nersc.gov/cfs/lsst/DESC_TD_PUBLIC/ELASTICC/TRAINING_SAMPLES/ELASTICC_TRAIN_AGN/ELASTICC_TRAIN_NONIaMODEL0-0040_HEAD.FITS.gz...\n",
            "Descargando https://portal.nersc.gov/cfs/lsst/DESC_TD_PUBLIC/ELASTICC/TRAINING_SAMPLES/ELASTICC_TRAIN_AGN/ELASTICC_TRAIN_NONIaMODEL0-0040_PHOT.FITS.gz...\n"
          ]
        }
      ]
    },
    {
      "cell_type": "code",
      "source": [
        "# Crear listas para almacenar los datos\n",
        "head_data = []\n",
        "phot_data = []\n",
        "\n",
        "# Leer y procesar archivos FITS\n",
        "for file_name in os.listdir('fits_files'):\n",
        "    if file_name.endswith('.FITS'):\n",
        "        with fits.open(f'fits_files/{file_name}') as hdul:\n",
        "            # Extraer los datos del archivo FITS\n",
        "            data = hdul[1].data  # Asumiendo que los datos están en la extensión 1\n",
        "            df = pd.DataFrame(data)\n",
        "\n",
        "            # Determinar si es un archivo HEAD o PHOT\n",
        "            if 'HEAD' in file_name:\n",
        "                head_data.append(df)\n",
        "            elif 'PHOT' in file_name:\n",
        "                phot_data.append(df)\n",
        "\n",
        "print(\"Proceso terminado\")"
      ],
      "metadata": {
        "id": "F8JoYvdRdJDW"
      },
      "execution_count": null,
      "outputs": []
    },
    {
      "cell_type": "code",
      "source": [
        "# Concatenar los datos\n",
        "head_dataset = pd.concat(head_data, ignore_index=True)\n",
        "phot_dataset = pd.concat(phot_data, ignore_index=True)\n",
        "\n",
        "# Guardar los datasets en archivos CSV\n",
        "head_dataset.to_csv('head_data.csv', index=False)\n",
        "phot_dataset.to_csv('phot_data.csv', index=False)\n",
        "\n",
        "print(\"Archivos procesados y guardados como head_data.csv y phot_data.csv.\")\n"
      ],
      "metadata": {
        "id": "th-vmuORdKnb"
      },
      "execution_count": null,
      "outputs": []
    }
  ],
  "metadata": {
    "colab": {
      "provenance": [],
      "authorship_tag": "ABX9TyPLftctgwjW7NRpS6NyMuLJ",
      "include_colab_link": true
    },
    "kernelspec": {
      "display_name": "Python 3",
      "name": "python3"
    },
    "language_info": {
      "name": "python"
    }
  },
  "nbformat": 4,
  "nbformat_minor": 0
}